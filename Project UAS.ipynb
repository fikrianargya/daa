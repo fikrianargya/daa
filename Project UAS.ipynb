{
 "cells": [
  {
   "cell_type": "code",
   "execution_count": 3,
   "metadata": {},
   "outputs": [
    {
     "name": "stdout",
     "output_type": "stream",
     "text": [
      " \n",
      "Data Penduduk Daerah Tangerang Selatan Tahun 2016\n",
      " \n",
      " \n",
      "    No    Nama Kecamatan    Jumlah Penduduk\n",
      "0   --     -------------            -------\n",
      "1    1           Ciputat            225.974\n",
      "2   --     -------------            -------\n",
      "3    2     Ciputat Timur            202.386\n",
      "4   --     -------------            -------\n",
      "5    3          Pamulang            333.957\n",
      "6   --     -------------            -------\n",
      "7    4       Pondok Aren            366.568\n",
      "8   --     -------------            -------\n",
      "9    5           Serpong            170.731\n",
      "10  --     -------------            -------\n",
      "11   6     Serpong Utara            163.755\n",
      "12  --     -------------            -------\n",
      "13   7              Setu             80.811\n",
      "14  --     -------------            -------\n",
      "Jumlah Penduduk Tangerang Selatan 2016 = 1544182\n"
     ]
    },
    {
     "data": {
      "image/png": "[encoded data removed]",
      "text/plain": [
       "<Figure size 432x288 with 1 Axes>"
      ]
     },
     "metadata": {
      "needs_background": "light"
     },
     "output_type": "display_data"
    }
   ],
   "source": [
    "print (\" \")\n",
    "print (\"Data Penduduk Daerah Tangerang Selatan Tahun 2016\")\n",
    "print (\" \")\n",
    "print (\" \")\n",
    "\n",
    "import pandas as pd\n",
    "df = pd.DataFrame([\n",
    "   ['--', '-------------', '-------'],\n",
    "    ['1', 'Ciputat', 225.974],\n",
    "      ['--', '-------------', '-------'],\n",
    "    ['2', 'Ciputat Timur', 202.386],\n",
    "     ['--', '-------------', '-------'],\n",
    "    ['3', 'Pamulang', 333.957],\n",
    "      ['--', '-------------', '-------'],\n",
    "    ['4', 'Pondok Aren', 366.568],\n",
    "      ['--', '-------------', '-------'],\n",
    "    ['5', 'Serpong', 170.731],\n",
    "      ['--', '-------------', '-------'],\n",
    "    ['6', 'Serpong Utara', 163.755],\n",
    "      ['--', '-------------', '-------'],\n",
    "    ['7', 'Setu', 80.811],\n",
    "    ['--', '-------------', '-------']])\n",
    "df.columns = ['No', '   Nama Kecamatan', '   Jumlah Penduduk']\n",
    "print(df)\n",
    "\n",
    "\n",
    "def SelectionSort(list):\n",
    "    for fill_slot in range(len(list) - 1, 0, -1):\n",
    "        max_index = 0\n",
    "        for location in range(1, fill_slot + 1):\n",
    "            if list[location] > list[max_index]:\n",
    "                max_index = location\n",
    "        list[fill_slot],list[max_index] = list[max_index],list[fill_slot]\n",
    "    return list\n",
    "\n",
    "\n",
    "\n",
    "list = [225974,202386,333957,366568,170731,163755,80811]\n",
    "SelectionSort(list)\n",
    "\n",
    "\n",
    "list\n",
    "\n",
    "setu = 80811\n",
    "serpongUtara = 163755 \n",
    "serpong = 170731   \n",
    "ciputatTimur = 202386      \n",
    "ciputat = 225974         \n",
    "pamulang = 333957  \n",
    "pondokAren = 366568      \n",
    "    \n",
    "jmlPendudukTngsl = setu+serpong+pamulang+ciputat+ciputatTimur+pondokAren+serpongUtara\n",
    "print ('Jumlah Penduduk Tangerang Selatan 2016 = {0}'.format(jmlPendudukTngsl))\n",
    "\n",
    "import matplotlib.pyplot as plt\n",
    "fig = plt.figure()\n",
    "ax = fig.add_axes([1,1,2,2])\n",
    "namaKecamatan = ['Setu', 'Serpong Utara', 'Serpong', 'Ciputat Timur', 'Ciputat','Pamulang','Pondok Aren']\n",
    "jmlPenduduk = [80811,163755,170731,202386,225974,333957,366568]\n",
    "ax.bar(namaKecamatan,jmlPenduduk)\n",
    "plt.show()\n",
    "\n"
   ]
  },
  {
   "cell_type": "code",
   "execution_count": 4,
   "metadata": {},
   "outputs": [
    {
     "name": "stdout",
     "output_type": "stream",
     "text": [
      " \n",
      "Data Penduduk Daerah Tangerang Selatan Tahun 2017\n",
      " \n",
      " \n",
      "    No    Nama Kecamatan    Jumlah Penduduk\n",
      "0   --     -------------            -------\n",
      "1    1           Ciputat            239.152\n",
      "2   --     -------------            -------\n",
      "3    2     Ciputat Timur            211.003\n",
      "4   --     -------------            -------\n",
      "5    3          Pamulang            350.923\n",
      "6   --     -------------            -------\n",
      "7    4       Pondok Aren            392.284\n",
      "8   --     -------------            -------\n",
      "9    5           Serpong            184.761\n",
      "10  --     -------------            -------\n",
      "11   6     Serpong Utara            179.993\n",
      "12  --     -------------            -------\n",
      "13   7              Setu             86.783\n",
      "14  --     -------------            -------\n",
      "Jumlah Penduduk Tangerang Selatan 2017 = 1644899\n"
     ]
    },
    {
     "data": {
      "image/png": "[encoded data removed]",
      "text/plain": [
       "<Figure size 432x288 with 1 Axes>"
      ]
     },
     "metadata": {
      "needs_background": "light"
     },
     "output_type": "display_data"
    }
   ],
   "source": [
    "print (\" \")\n",
    "print (\"Data Penduduk Daerah Tangerang Selatan Tahun 2017\")\n",
    "print (\" \")\n",
    "print (\" \")\n",
    "\n",
    "import pandas as pd\n",
    "df = pd.DataFrame([\n",
    "   ['--', '-------------', '-------'],\n",
    "    ['1', 'Ciputat', 239.152],\n",
    "      ['--', '-------------', '-------'],\n",
    "    ['2', 'Ciputat Timur', 211.003],\n",
    "     ['--', '-------------', '-------'],\n",
    "    ['3', 'Pamulang', 350.923],\n",
    "      ['--', '-------------', '-------'],\n",
    "    ['4', 'Pondok Aren', 392.284],\n",
    "      ['--', '-------------', '-------'],\n",
    "    ['5', 'Serpong', 184.761],\n",
    "      ['--', '-------------', '-------'],\n",
    "    ['6', 'Serpong Utara', 179.993],\n",
    "      ['--', '-------------', '-------'],\n",
    "    ['7', 'Setu', 86.783],\n",
    "    ['--', '-------------', '-------']])\n",
    "df.columns = ['No', '   Nama Kecamatan', '   Jumlah Penduduk']\n",
    "print(df)\n",
    "\n",
    "def SelectionSort(list):\n",
    "    for fill_slot in range(len(list) - 1, 0, -1):\n",
    "        max_index = 0\n",
    "        for location in range(1, fill_slot + 1):\n",
    "            if list[location] > list[max_index]:\n",
    "                max_index = location\n",
    "        list[fill_slot],list[max_index] = list[max_index],list[fill_slot]\n",
    "    return list\n",
    "\n",
    "\n",
    "\n",
    "list = [ 239152, 211003,350923,392284,184761,179993,86783]\n",
    "SelectionSort(list)\n",
    "\n",
    "\n",
    "list\n",
    "\n",
    "setu = 86783   \n",
    "serpongUtara = 179993 \n",
    "serpong = 184761 \n",
    "ciputatTimur = 211003 \n",
    "ciputat = 239152\n",
    "pamulang = 350923                  \n",
    "pondokAren = 392284          \n",
    "jmlPendudukTngsl = setu+serpong+pamulang+ciputat+ciputatTimur+pondokAren+serpongUtara\n",
    "print ('Jumlah Penduduk Tangerang Selatan 2017 = {0}'.format(jmlPendudukTngsl))\n",
    "\n",
    "import matplotlib.pyplot as plt\n",
    "fig = plt.figure()\n",
    "ax = fig.add_axes([1,1,2,2])\n",
    "namaKecamatan = ['Setu', 'Serpong Utara', 'Serpong', 'Ciputat Timur', 'Ciputat','Pamulang','Pondok Aren']\n",
    "jmlPenduduk = [86783,179993,184761,211003,239152,350923,392284]\n",
    "ax.bar(namaKecamatan,jmlPenduduk)\n",
    "plt.show()"
   ]
  },
  {
   "cell_type": "code",
   "execution_count": 5,
   "metadata": {},
   "outputs": [
    {
     "name": "stdout",
     "output_type": "stream",
     "text": [
      " \n",
      "Data Penduduk Daerah Tangerang Selatan Tahun 2018\n",
      " \n",
      " \n",
      "    No    Nama Kecamatan    Jumlah Penduduk\n",
      "0   --     -------------            -------\n",
      "1    1           Ciputat            245.727\n",
      "2   --     -------------            -------\n",
      "3    2     Ciputat Timur            215.186\n",
      "4   --     -------------            -------\n",
      "5    3          Pamulang            359.811\n",
      "6   --     -------------            -------\n",
      "7    4       Pondok Aren            405.316\n",
      "8   --     -------------            -------\n",
      "9    5           Serpong            191.968\n",
      "10  --     -------------            -------\n",
      "11   6     Serpong Utara            188.476\n",
      "12  --     -------------            -------\n",
      "13   7              Setu             89.825\n",
      "14  --     -------------            -------\n",
      "Jumlah Penduduk Tangerang Selatan 2018 = 1696309\n"
     ]
    },
    {
     "data": {
      "image/png": "[encoded data removed]",
      "text/plain": [
       "<Figure size 432x288 with 1 Axes>"
      ]
     },
     "metadata": {
      "needs_background": "light"
     },
     "output_type": "display_data"
    }
   ],
   "source": [
    "print (\" \")\n",
    "print (\"Data Penduduk Daerah Tangerang Selatan Tahun 2018\")\n",
    "print (\" \")\n",
    "print (\" \")\n",
    "\n",
    "import pandas as pd\n",
    "df = pd.DataFrame([\n",
    "   ['--', '-------------', '-------'],\n",
    "    ['1', 'Ciputat', 245.727],\n",
    "      ['--', '-------------', '-------'],\n",
    "    ['2', 'Ciputat Timur', 215.186],\n",
    "     ['--', '-------------', '-------'],\n",
    "    ['3', 'Pamulang', 359.811],\n",
    "      ['--', '-------------', '-------'],\n",
    "    ['4', 'Pondok Aren', 405.316],\n",
    "      ['--', '-------------', '-------'],\n",
    "    ['5', 'Serpong', 191.968],\n",
    "      ['--', '-------------', '-------'],\n",
    "    ['6', 'Serpong Utara', 188.476],\n",
    "      ['--', '-------------', '-------'],\n",
    "    ['7', 'Setu', 89.825],\n",
    "    ['--', '-------------', '-------']])\n",
    "df.columns = ['No', '   Nama Kecamatan', '   Jumlah Penduduk']\n",
    "print(df)\n",
    "\n",
    "def SelectionSort(list):\n",
    "    for fill_slot in range(len(list) - 1, 0, -1):\n",
    "        max_index = 0\n",
    "        for location in range(1, fill_slot + 1):\n",
    "            if list[location] > list[max_index]:\n",
    "                max_index = location\n",
    "        list[fill_slot],list[max_index] = list[max_index],list[fill_slot]\n",
    "    return list\n",
    "\n",
    "\n",
    "\n",
    "list = [ \n",
    "245727, 215186, 359811, 405316, 191968, 188476, 89825]\n",
    "SelectionSort(list)\n",
    "\n",
    "\n",
    "list\n",
    "\n",
    "setu = 89825   \n",
    "serpongUtara = 188476 \n",
    "serpong = 191968 \n",
    "ciputatTimur = 215186 \n",
    "ciputat = 245727\n",
    "pamulang = 359811                  \n",
    "pondokAren = 405316          \n",
    "jmlPendudukTngsl = setu+serpong+pamulang+ciputat+ciputatTimur+pondokAren+serpongUtara\n",
    "print ('Jumlah Penduduk Tangerang Selatan 2018 = {0}'.format(jmlPendudukTngsl))\n",
    "\n",
    "import matplotlib.pyplot as plt\n",
    "fig = plt.figure()\n",
    "ax = fig.add_axes([1,1,2,2])\n",
    "namaKecamatan = ['Setu', 'Serpong Utara', 'Serpong', 'Ciputat Timur', 'Ciputat','Pamulang','Pondok Aren']\n",
    "jmlPenduduk = [89825,188476,191968,215186,245727,359811,405316]\n",
    "ax.bar(namaKecamatan,jmlPenduduk)\n",
    "plt.show()\n",
    "\n"
   ]
  },
  {
   "cell_type": "code",
   "execution_count": 6,
   "metadata": {},
   "outputs": [
    {
     "name": "stdout",
     "output_type": "stream",
     "text": [
      "Grafik Pertumbuhan Penduduk Tangerang Selatan Dari Tahun      2016 - 2017\n",
      " \n"
     ]
    },
    {
     "data": {
      "image/png": "[encoded data removed]",
      "text/plain": [
       "<Figure size 432x288 with 1 Axes>"
      ]
     },
     "metadata": {
      "needs_background": "light"
     },
     "output_type": "display_data"
    }
   ],
   "source": [
    "print (\"Grafik Pertumbuhan Penduduk Tangerang Selatan Dari Tahun      2016 - 2017\")\n",
    "print (\" \")\n",
    "import matplotlib.pyplot as plt\n",
    "fig = plt.figure()\n",
    "ax = fig.add_axes([1,1,2,2])\n",
    "tahun = ['2016', '2017', '2018']\n",
    "jmlPendudukPerTahun = [1544182,1644899,1696309]\n",
    "ax.bar(tahun,jmlPendudukPerTahun)\n",
    "plt.show()"
   ]
  },
  {
   "cell_type": "code",
   "execution_count": null,
   "metadata": {},
   "outputs": [],
   "source": []
  }
 ],
 "metadata": {
  "kernelspec": {
   "display_name": "Python 3",
   "language": "python",
   "name": "python3"
  },
  "language_info": {
   "codemirror_mode": {
    "name": "ipython",
    "version": 3
   },
   "file_extension": ".py",
   "mimetype": "text/x-python",
   "name": "python",
   "nbconvert_exporter": "python",
   "pygments_lexer": "ipython3",
   "version": "3.8.3"
  }
 },
 "nbformat": 4,
 "nbformat_minor": 4
}
